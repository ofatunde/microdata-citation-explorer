{
 "cells": [
  {
   "cell_type": "markdown",
   "id": "aa01087f",
   "metadata": {},
   "source": [
    "# Query Generation\n",
    "We begin by generating a set of search queries based on the metadata for each dataset.\n",
    "\n",
    "The full query creation notebook can be found at this link: https://github.com/ofatunde/mdl-explorer-app/blob/main/notebooks/Semantic_Scholar_NLP4DEV.ipynb \n",
    "\n",
    "### Import modules"
   ]
  },
  {
   "cell_type": "code",
   "execution_count": 1,
   "id": "e3deb0e7",
   "metadata": {},
   "outputs": [
    {
     "ename": "ModuleNotFoundError",
     "evalue": "No module named 'numpy'",
     "output_type": "error",
     "traceback": [
      "\u001b[0;31m---------------------------------------------------------------------------\u001b[0m",
      "\u001b[0;31mModuleNotFoundError\u001b[0m                       Traceback (most recent call last)",
      "Cell \u001b[0;32mIn[1], line 1\u001b[0m\n\u001b[0;32m----> 1\u001b[0m \u001b[38;5;28;01mimport\u001b[39;00m \u001b[38;5;21;01mnumpy\u001b[39;00m \u001b[38;5;28;01mas\u001b[39;00m \u001b[38;5;21;01mnp\u001b[39;00m\n\u001b[1;32m      2\u001b[0m \u001b[38;5;28;01mimport\u001b[39;00m \u001b[38;5;21;01mpandas\u001b[39;00m \u001b[38;5;28;01mas\u001b[39;00m \u001b[38;5;21;01mpd\u001b[39;00m\n\u001b[1;32m      3\u001b[0m \u001b[38;5;28;01mfrom\u001b[39;00m \u001b[38;5;21;01msemanticscholar\u001b[39;00m \u001b[38;5;28;01mimport\u001b[39;00m SemanticScholar\n",
      "\u001b[0;31mModuleNotFoundError\u001b[0m: No module named 'numpy'"
     ]
    }
   ],
   "source": [
    "import numpy as np\n",
    "import pandas as pd\n",
    "from semanticscholar import SemanticScholar\n",
    "import re\n",
    "from collections import Counter\n",
    "import preprocessor as p\n",
    "import pickle\n",
    "import requests\n",
    "import time"
   ]
  },
  {
   "cell_type": "markdown",
   "id": "958696af",
   "metadata": {},
   "source": [
    "### import data dump and query building data"
   ]
  },
  {
   "cell_type": "code",
   "execution_count": null,
   "id": "c4eac35d",
   "metadata": {},
   "outputs": [],
   "source": [
    "sample_metadata = pd.read_json(r\"Downloads\\sample_metadata.json\", lines = True)\n",
    "sample_pdf_parses = pd.read_json(r\"Downloads\\pdf_parses_sample.json\", lines = True)\n",
    "data = pd.read_excel(r\"Downloads\\overview_all_datasets_2022_categorized.xlsx\",sheet_name = \"Categorized\")\n",
    "df = pd.read_csv(r\"Downloads\\mdl_baseline_summary.csv\")\n"
   ]
  },
  {
   "cell_type": "markdown",
   "id": "253a549f",
   "metadata": {},
   "source": [
    "### Build queries."
   ]
  },
  {
   "cell_type": "code",
   "execution_count": null,
   "id": "f91fbd7e",
   "metadata": {},
   "outputs": [],
   "source": [
    "data[\"fullname_shortcode\"] = data[\"Category\"]+ \" \"+ data[\"abbreviation\"]"
   ]
  },
  {
   "cell_type": "code",
   "execution_count": null,
   "id": "0825fb5d",
   "metadata": {},
   "outputs": [],
   "source": [
    "dfq = pd.DataFrame()"
   ]
  },
  {
   "cell_type": "code",
   "execution_count": null,
   "id": "2c3d44b6",
   "metadata": {},
   "outputs": [],
   "source": [
    "dfq[\"fau_short\"] = pd.DataFrame(df.full_query).applymap(lambda x: x.split()[0]) # Authoring entity short\n",
    "dfq[\"fau_long\"] = df[\"authoring_entity\"] #Authoring entity long\n",
    "dfq[\"name\"] =df[\"nation\"] # Extract nation\n",
    "dfq[\"year\"]= df[\"full_query\"].str.extract('(\\d+)', expand=False) # extract year"
   ]
  },
  {
   "cell_type": "markdown",
   "id": "0799efe4",
   "metadata": {},
   "source": [
    "### fau = First Authoring Organization"
   ]
  },
  {
   "cell_type": "code",
   "execution_count": null,
   "id": "51144cad",
   "metadata": {},
   "outputs": [],
   "source": [
    "dfq[\"short_code\"] = data[\"abbreviation\"]\n",
    "dfq[\"full_name\"] =  data[\"Category\"]\n",
    "dfq[\"shortcode_fullname\"] =  data[\"abbreviation\"]+ \" \"+  data[\"Category\"]\n"
   ]
  },
  {
   "cell_type": "markdown",
   "id": "67462372",
   "metadata": {},
   "source": [
    "### Queries\n",
    "Query type 1: fau_short+year+name+shortcode\n",
    "Query type 2: fau_short+year+name+full_name\n",
    "Query type 3: fau_short+year+name+shortcode_fullname\n",
    "Query type 4: fau_long+year+name+shortcode\n",
    "Query type 6: fau_long+year+name+shortcode_fullname"
   ]
  },
  {
   "cell_type": "code",
   "execution_count": null,
   "id": "99ea2735",
   "metadata": {},
   "outputs": [],
   "source": [
    "dfq[\"query_type1\"] = dfq[\"fau_short\"]+ \" \"+ dfq[\"name\"]+ \" \"+dfq[\"year\"]+\" \"+dfq[\"short_code\"] #type 1\n",
    "dfq[\"query_type2\"] = dfq[\"fau_short\"]+ \" \"+ dfq[\"name\"]+ \" \"+dfq[\"year\"]+\" \"+dfq[\"full_name\"] #2\n",
    "dfq[\"query_type3\"] = dfq[\"fau_short\"]+ \" \"+ dfq[\"name\"]+ \" \"+dfq[\"year\"]+\" \"+dfq[\"shortcode_fullname\"] #3\n",
    "dfq[\"query_type4\"] = dfq[\"fau_long\"]+ \" \"+ dfq[\"name\"]+ \" \"+dfq[\"year\"]+\" \"+dfq[\"short_code\"] # 4\n",
    "dfq[\"query_type5\"] = dfq[\"fau_long\"]+ \" \"+ dfq[\"name\"]+ \" \"+dfq[\"year\"]+\" \"+dfq[\"full_name\"] # 5\n",
    "dfq[\"query_type6\"] = dfq[\"fau_long\"]+ \" \"+ dfq[\"name\"]+ \" \"+dfq[\"year\"]+\" \"+dfq[\"shortcode_fullname\"] #6\n",
    "dfq['id']  = data['id']\n",
    "#dfq.to_excel(r\"Downloads\\semantic_scholar_queries.xlsx\", index = False)-> Save dataset"
   ]
  },
  {
   "cell_type": "markdown",
   "id": "40f34213",
   "metadata": {},
   "source": [
    "### Use query type 1 to query ss API"
   ]
  },
  {
   "cell_type": "code",
   "execution_count": null,
   "id": "db3dbd5d",
   "metadata": {},
   "outputs": [],
   "source": [
    "query_finder(dfq, 189,1)"
   ]
  },
  {
   "cell_type": "code",
   "execution_count": null,
   "id": "cf5219c5",
   "metadata": {},
   "outputs": [],
   "source": [
    "#sch = SemanticScholar()\n",
    "#results = sch.search_paper(query_finder(dfq, 189,1))\n",
    "title = []\n",
    "abstract = []\n",
    "results\n",
    "for item in results:\n",
    "     title.append(item.title)\n",
    "for item in results:\n",
    "    abstract.append(item.abstract)    "
   ]
  },
  {
   "cell_type": "code",
   "execution_count": null,
   "id": "e0624c18",
   "metadata": {},
   "outputs": [],
   "source": [
    "data = pd.DataFrame(list(zip(title,abstract)), columns = ['title', 'abstract'])"
   ]
  },
  {
   "cell_type": "code",
   "execution_count": null,
   "id": "b4cb6af1",
   "metadata": {},
   "outputs": [],
   "source": [
    "data[\"dataset_number\"] =189"
   ]
  },
  {
   "cell_type": "code",
   "execution_count": null,
   "id": "98af08f6",
   "metadata": {},
   "outputs": [],
   "source": [
    "data[\"query_number\"] =1"
   ]
  },
  {
   "cell_type": "code",
   "execution_count": null,
   "id": "15662a03",
   "metadata": {},
   "outputs": [],
   "source": [
    "data.to_excel(r\"downloads\\streamlitdemo.xlsx\", index =False)"
   ]
  },
  {
   "cell_type": "code",
   "execution_count": null,
   "id": "186399f7",
   "metadata": {},
   "outputs": [],
   "source": [
    "# This function takes in the name of our dataframe, the id of the data set and the query number and returns the query.\n",
    "def query_finder(df_name: pd.DataFrame, dataset_id: int = 189, query_number:int =1 )->str:\n",
    "    \"\"\" Function takes in the query dataframe, the dataset ID and the query type number and retuns the query itself\"\"\"\n",
    "    df_indexid = df_name.set_index('id')\n",
    "    query = df_indexid.loc[189][f\"query_type{query_number}\"]\n",
    "    return query "
   ]
  },
  {
   "cell_type": "markdown",
   "id": "46f820a9",
   "metadata": {},
   "source": [
    "### Query type1 for all data sets\n",
    "## Pausing\n",
    "\n",
    "## Next steps\n",
    "After generating these queries, we run the queries we created from the raw file (“overview_all_datasets_2022_categorized.xlsx\") through the semantic scholar API. See [the next section](methods/semantic-search.md) for more detailes.\n",
    "\n",
    "\n",
    "## Citations\n",
    "\n",
    "The following papers informed our approach: {cite}`Bakke2016`.\n",
    "\n",
    "\n",
    "```{bibliography}\n",
    "```"
   ]
  }
 ],
 "metadata": {
  "jupytext": {
   "cell_metadata_filter": "-all",
   "formats": "md:myst",
   "text_representation": {
    "extension": ".md",
    "format_name": "myst",
    "format_version": 0.13,
    "jupytext_version": "1.11.5"
   }
  },
  "kernelspec": {
   "display_name": "Python 3",
   "language": "python",
   "name": "python3"
  },
  "language_info": {
   "codemirror_mode": {
    "name": "ipython",
    "version": 3
   },
   "file_extension": ".py",
   "mimetype": "text/x-python",
   "name": "python",
   "nbconvert_exporter": "python",
   "pygments_lexer": "ipython3",
   "version": "3.10.6"
  },
  "source_map": [
   14,
   22,
   32,
   35,
   41,
   45,
   48,
   51,
   56,
   59,
   64,
   73,
   82,
   86,
   89,
   100,
   103,
   106,
   109,
   112,
   119
  ]
 },
 "nbformat": 4,
 "nbformat_minor": 5
}