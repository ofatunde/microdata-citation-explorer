{
 "cells": [
  {
   "cell_type": "markdown",
   "id": "c357528d",
   "metadata": {},
   "source": [
    "# Query Generation\n",
    "We begin by generating a set of search queries based on the metadata for each dataset.\n",
    "\n",
    "The full query creation notebook can be found at this link: \n",
    "[1]: https://github.com/ofatunde/mdl-explorer-app/blob/main/notebooks/Semantic_Scholar_NLP4DEV.ipynb \"Query notebook\"\n",
    "\n",
    "We start with simple methods of combining the metadata. The key metadata components that we use as an input into queries are:\n",
    "* Core survey name\n",
    "* Survey abbreviation (e.g., VaSyR)\n",
    "* Lead organization (e.g., UNHCR) - short or long versions may be used\n",
    "* Category (e.g., Socioeconomic Asessment of Refugees)\n",
    "* Country\n",
    "* Year \n",
    "\n",
    "For our initial exploration, we define six simple query types which represent different combinations of the information above :\n",
    "\n",
    "* Query type 1: lead_org_short + year + name + shortcode\n",
    "* Query type 2: lead_org_short + year + name + full_name\n",
    "* Query type 3: lead_org_short + year + name + shortcode_fullname\n",
    "* Query type 4: lead_org_long + year + name + shortcode\n",
    "* Query type 6: lead_org_long + year + name + shortcode_fullname\n",
    "\n",
    "Defining query structure is an important step, as the search output can be sensitive to the contents of the query used for the search. For example, the six queries above return different number of results if entered into Semantic Scholar. \n",
    "\n",
    "The table below shows the number of results returned by Semantic Scholar for each dataset."
   ]
  },
  {
   "cell_type": "code",
   "execution_count": 1,
   "id": "ae74a1a5",
   "metadata": {},
   "outputs": [
    {
     "ename": "ModuleNotFoundError",
     "evalue": "No module named 'pandas'",
     "output_type": "error",
     "traceback": [
      "\u001b[0;31m---------------------------------------------------------------------------\u001b[0m",
      "\u001b[0;31mModuleNotFoundError\u001b[0m                       Traceback (most recent call last)",
      "Cell \u001b[0;32mIn[1], line 1\u001b[0m\n\u001b[0;32m----> 1\u001b[0m \u001b[38;5;28;01mimport\u001b[39;00m \u001b[38;5;21;01mpandas\u001b[39;00m \u001b[38;5;28;01mas\u001b[39;00m \u001b[38;5;21;01mpd\u001b[39;00m\n\u001b[1;32m      2\u001b[0m df \u001b[38;5;241m=\u001b[39m pd\u001b[38;5;241m.\u001b[39mread_csv(\u001b[38;5;124mr\u001b[39m\u001b[38;5;124m\"\u001b[39m\u001b[38;5;124mdata\u001b[39m\u001b[38;5;124m\\\u001b[39m\u001b[38;5;124msemantic_scholar_query_results_with_web_count.csv\u001b[39m\u001b[38;5;124m\"\u001b[39m)\n\u001b[1;32m      3\u001b[0m \u001b[38;5;28mprint\u001b[39m(df)\n",
      "\u001b[0;31mModuleNotFoundError\u001b[0m: No module named 'pandas'"
     ]
    }
   ],
   "source": [
    "import pandas as pd\n",
    "df = pd.read_csv(r\"data\\semantic_scholar_query_results_with_web_count.csv\")\n",
    "print(df)"
   ]
  },
  {
   "cell_type": "markdown",
   "id": "98155a7e",
   "metadata": {},
   "source": [
    "{::comment}\n",
    "(### Import modules"
   ]
  },
  {
   "cell_type": "code",
   "execution_count": null,
   "id": "afdab77c",
   "metadata": {},
   "outputs": [],
   "source": [
    "import numpy as np\n",
    "import pandas as pd\n",
    "from semanticscholar import SemanticScholar\n",
    "import re\n",
    "from collections import Counter\n",
    "import preprocessor as p\n",
    "import pickle\n",
    "import requests\n",
    "import time"
   ]
  },
  {
   "cell_type": "markdown",
   "id": "62bab366",
   "metadata": {},
   "source": [
    "### import data dump and query building data"
   ]
  },
  {
   "cell_type": "code",
   "execution_count": null,
   "id": "23145184",
   "metadata": {},
   "outputs": [],
   "source": [
    "sample_metadata = pd.read_json(r\"Downloads\\sample_metadata.json\", lines = True)\n",
    "sample_pdf_parses = pd.read_json(r\"Downloads\\pdf_parses_sample.json\", lines = True)\n",
    "data = pd.read_excel(r\"Downloads\\overview_all_datasets_2022_categorized.xlsx\",sheet_name = \"Categorized\")\n",
    "df = pd.read_csv(r\"Downloads\\mdl_baseline_summary.csv\")\n"
   ]
  },
  {
   "cell_type": "markdown",
   "id": "a31bd0f0",
   "metadata": {},
   "source": [
    "### Build queries."
   ]
  },
  {
   "cell_type": "code",
   "execution_count": null,
   "id": "b553025a",
   "metadata": {},
   "outputs": [],
   "source": [
    "data[\"fullname_shortcode\"] = data[\"Category\"]+ \" \"+ data[\"abbreviation\"]"
   ]
  },
  {
   "cell_type": "code",
   "execution_count": null,
   "id": "ec534e15",
   "metadata": {},
   "outputs": [],
   "source": [
    "dfq = pd.DataFrame()"
   ]
  },
  {
   "cell_type": "code",
   "execution_count": null,
   "id": "7bfb29da",
   "metadata": {},
   "outputs": [],
   "source": [
    "dfq[\"fau_short\"] = pd.DataFrame(df.full_query).applymap(lambda x: x.split()[0]) # Authoring entity short\n",
    "dfq[\"fau_long\"] = df[\"authoring_entity\"] #Authoring entity long\n",
    "dfq[\"name\"] =df[\"nation\"] # Extract nation\n",
    "dfq[\"year\"]= df[\"full_query\"].str.extract('(\\d+)', expand=False) # extract year"
   ]
  },
  {
   "cell_type": "markdown",
   "id": "5555021d",
   "metadata": {},
   "source": [
    "### fau = First Authoring Organization"
   ]
  },
  {
   "cell_type": "code",
   "execution_count": null,
   "id": "78da325f",
   "metadata": {},
   "outputs": [],
   "source": [
    "dfq[\"short_code\"] = data[\"abbreviation\"]\n",
    "dfq[\"full_name\"] =  data[\"Category\"]\n",
    "dfq[\"shortcode_fullname\"] =  data[\"abbreviation\"]+ \" \"+  data[\"Category\"]\n"
   ]
  },
  {
   "cell_type": "markdown",
   "id": "dddc63cc",
   "metadata": {},
   "source": [
    "### Queries\n",
    "Query type 1: fau_short+year+name+shortcode\n",
    "Query type 2: fau_short+year+name+full_name\n",
    "Query type 3: fau_short+year+name+shortcode_fullname\n",
    "Query type 4: fau_long+year+name+shortcode\n",
    "Query type 6: fau_long+year+name+shortcode_fullname"
   ]
  },
  {
   "cell_type": "code",
   "execution_count": null,
   "id": "7c3da0d5",
   "metadata": {},
   "outputs": [],
   "source": [
    "dfq[\"query_type1\"] = dfq[\"fau_short\"]+ \" \"+ dfq[\"name\"]+ \" \"+dfq[\"year\"]+\" \"+dfq[\"short_code\"] #type 1\n",
    "dfq[\"query_type2\"] = dfq[\"fau_short\"]+ \" \"+ dfq[\"name\"]+ \" \"+dfq[\"year\"]+\" \"+dfq[\"full_name\"] #2\n",
    "dfq[\"query_type3\"] = dfq[\"fau_short\"]+ \" \"+ dfq[\"name\"]+ \" \"+dfq[\"year\"]+\" \"+dfq[\"shortcode_fullname\"] #3\n",
    "dfq[\"query_type4\"] = dfq[\"fau_long\"]+ \" \"+ dfq[\"name\"]+ \" \"+dfq[\"year\"]+\" \"+dfq[\"short_code\"] # 4\n",
    "dfq[\"query_type5\"] = dfq[\"fau_long\"]+ \" \"+ dfq[\"name\"]+ \" \"+dfq[\"year\"]+\" \"+dfq[\"full_name\"] # 5\n",
    "dfq[\"query_type6\"] = dfq[\"fau_long\"]+ \" \"+ dfq[\"name\"]+ \" \"+dfq[\"year\"]+\" \"+dfq[\"shortcode_fullname\"] #6\n",
    "dfq['id']  = data['id']\n",
    "#dfq.to_excel(r\"Downloads\\semantic_scholar_queries.xlsx\", index = False)-> Save dataset"
   ]
  },
  {
   "cell_type": "markdown",
   "id": "79224df3",
   "metadata": {},
   "source": [
    "### Use query type 1 to query ss API"
   ]
  },
  {
   "cell_type": "code",
   "execution_count": null,
   "id": "2371bc8b",
   "metadata": {},
   "outputs": [],
   "source": [
    "query_finder(dfq, 189,1)"
   ]
  },
  {
   "cell_type": "code",
   "execution_count": null,
   "id": "2fd96a8c",
   "metadata": {},
   "outputs": [],
   "source": [
    "#sch = SemanticScholar()\n",
    "#results = sch.search_paper(query_finder(dfq, 189,1))\n",
    "title = []\n",
    "abstract = []\n",
    "results\n",
    "for item in results:\n",
    "     title.append(item.title)\n",
    "for item in results:\n",
    "    abstract.append(item.abstract)    "
   ]
  },
  {
   "cell_type": "code",
   "execution_count": null,
   "id": "5e76d29a",
   "metadata": {},
   "outputs": [],
   "source": [
    "data = pd.DataFrame(list(zip(title,abstract)), columns = ['title', 'abstract'])"
   ]
  },
  {
   "cell_type": "code",
   "execution_count": null,
   "id": "1a736f30",
   "metadata": {},
   "outputs": [],
   "source": [
    "data[\"dataset_number\"] =189"
   ]
  },
  {
   "cell_type": "code",
   "execution_count": null,
   "id": "42537a05",
   "metadata": {},
   "outputs": [],
   "source": [
    "data[\"query_number\"] =1"
   ]
  },
  {
   "cell_type": "code",
   "execution_count": null,
   "id": "4cf1db51",
   "metadata": {},
   "outputs": [],
   "source": [
    "data.to_excel(r\"downloads\\streamlitdemo.xlsx\", index =False)"
   ]
  },
  {
   "cell_type": "code",
   "execution_count": null,
   "id": "eaf55615",
   "metadata": {},
   "outputs": [],
   "source": [
    "# This function takes in the name of our dataframe, the id of the data set and the query number and returns the query.\n",
    "def query_finder(df_name: pd.DataFrame, dataset_id: int = 189, query_number:int =1 )->str:\n",
    "    \"\"\" Function takes in the query dataframe, the dataset ID and the query type number and retuns the query itself\"\"\"\n",
    "    df_indexid = df_name.set_index('id')\n",
    "    query = df_indexid.loc[189][f\"query_type{query_number}\"]\n",
    "    return query "
   ]
  },
  {
   "cell_type": "markdown",
   "id": "f09a0a4f",
   "metadata": {},
   "source": [
    "### Query type1 for all data sets\n",
    "## Pausing\n",
    "{:/comment}\n",
    "## Next steps\n",
    "After generating these queries, we run the queries we created from the raw file (“overview_all_datasets_2022_categorized.xlsx\") through the semantic scholar API. See [the next section](methods/semantic-search.md) for more details.\n",
    "\n",
    "\n",
    "## Citations\n",
    "\n",
    "The following papers informed our approach: {cite}`Bakke2016`.\n",
    "\n",
    "\n",
    "```{bibliography}\n",
    "```"
   ]
  }
 ],
 "metadata": {
  "jupytext": {
   "cell_metadata_filter": "-all",
   "formats": "md:myst",
   "text_representation": {
    "extension": ".md",
    "format_name": "myst",
    "format_version": 0.13,
    "jupytext_version": "1.11.5"
   }
  },
  "kernelspec": {
   "display_name": "Python 3",
   "language": "python",
   "name": "python3"
  },
  "language_info": {
   "codemirror_mode": {
    "name": "ipython",
    "version": 3
   },
   "file_extension": ".py",
   "mimetype": "text/x-python",
   "name": "python",
   "nbconvert_exporter": "python",
   "pygments_lexer": "ipython3",
   "version": "3.10.6"
  },
  "source_map": [
   14,
   41,
   45,
   49,
   59,
   62,
   68,
   72,
   75,
   78,
   83,
   86,
   91,
   100,
   109,
   113,
   116,
   127,
   130,
   133,
   136,
   139,
   146
  ]
 },
 "nbformat": 4,
 "nbformat_minor": 5
}