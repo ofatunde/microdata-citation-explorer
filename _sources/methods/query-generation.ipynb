{
 "cells": [
  {
   "cell_type": "markdown",
   "id": "5b747ade",
   "metadata": {},
   "source": [
    "# Query Generation\n",
    "We begin by generating a set of search queries based on the metadata for each dataset.\n",
    "\n",
    "The full query creation notebook can be found at this link: \n",
    "[1]: https://github.com/ofatunde/mdl-explorer-app/blob/main/notebooks/Semantic_Scholar_NLP4DEV.ipynb \"Query notebook\"\n",
    "\n",
    "We start with simple methods of combining the metadata. The key metadata components that we use as an input into queries are:\n",
    "* Core survey name\n",
    "* Survey abbreviation (e.g., VaSyR)\n",
    "* Lead organization (e.g., UNHCR) - short or long versions may be used\n",
    "* Category (e.g., Socioeconomic Asessment of Refugees)\n",
    "* Country\n",
    "* Year \n",
    "\n",
    "For our initial exploration, we define six simple query types which represent different combinations of the information above :\n",
    "\n",
    "* Query type 1: lead_org_short + year + name + shortcode\n",
    "* Query type 2: lead_org_short + year + name + full_name\n",
    "* Query type 3: lead_org_short + year + name + shortcode_fullname\n",
    "* Query type 4: lead_org_long + year + name + shortcode\n",
    "* Query type 6: lead_org_long + year + name + shortcode_fullname\n",
    "\n",
    "Defining query structure is an important step, as the search output can be sensitive to the contents of the query used for the search. For example, the six queries above return different number of results if entered into Semantic Scholar. \n",
    "\n",
    "The table below shows the number of results returned by Semantic Scholar for each dataset."
   ]
  },
  {
   "cell_type": "code",
   "execution_count": 1,
   "id": "e6470e74",
   "metadata": {
    "tags": [
     "output_scroll",
     "hide-input"
    ]
   },
   "outputs": [
    {
     "data": {
      "text/html": [
       "<div>\n",
       "<style scoped>\n",
       "    .dataframe tbody tr th:only-of-type {\n",
       "        vertical-align: middle;\n",
       "    }\n",
       "\n",
       "    .dataframe tbody tr th {\n",
       "        vertical-align: top;\n",
       "    }\n",
       "\n",
       "    .dataframe thead th {\n",
       "        text-align: right;\n",
       "    }\n",
       "</style>\n",
       "<table border=\"1\" class=\"dataframe\">\n",
       "  <thead>\n",
       "    <tr style=\"text-align: right;\">\n",
       "      <th></th>\n",
       "      <th>id</th>\n",
       "      <th>query_type1_pubs</th>\n",
       "      <th>query_type2_pubs</th>\n",
       "      <th>query_type3_pubs</th>\n",
       "      <th>query_type4_pubs</th>\n",
       "      <th>query_type5_pubs</th>\n",
       "      <th>query_type6_pubs</th>\n",
       "      <th>no_related_pubs_jdc_website</th>\n",
       "    </tr>\n",
       "  </thead>\n",
       "  <tbody>\n",
       "    <tr>\n",
       "      <th>0</th>\n",
       "      <td>16</td>\n",
       "      <td>93</td>\n",
       "      <td>2</td>\n",
       "      <td>0</td>\n",
       "      <td>0</td>\n",
       "      <td>0</td>\n",
       "      <td>0</td>\n",
       "      <td>0</td>\n",
       "    </tr>\n",
       "    <tr>\n",
       "      <th>1</th>\n",
       "      <td>114</td>\n",
       "      <td>12</td>\n",
       "      <td>0</td>\n",
       "      <td>0</td>\n",
       "      <td>1978</td>\n",
       "      <td>2</td>\n",
       "      <td>2</td>\n",
       "      <td>1</td>\n",
       "    </tr>\n",
       "    <tr>\n",
       "      <th>2</th>\n",
       "      <td>131</td>\n",
       "      <td>3</td>\n",
       "      <td>0</td>\n",
       "      <td>0</td>\n",
       "      <td>0</td>\n",
       "      <td>0</td>\n",
       "      <td>0</td>\n",
       "      <td>0</td>\n",
       "    </tr>\n",
       "    <tr>\n",
       "      <th>3</th>\n",
       "      <td>132</td>\n",
       "      <td>34</td>\n",
       "      <td>0</td>\n",
       "      <td>0</td>\n",
       "      <td>0</td>\n",
       "      <td>0</td>\n",
       "      <td>0</td>\n",
       "      <td>0</td>\n",
       "    </tr>\n",
       "    <tr>\n",
       "      <th>4</th>\n",
       "      <td>136</td>\n",
       "      <td>15</td>\n",
       "      <td>49</td>\n",
       "      <td>2</td>\n",
       "      <td>15</td>\n",
       "      <td>49</td>\n",
       "      <td>2</td>\n",
       "      <td>2</td>\n",
       "    </tr>\n",
       "  </tbody>\n",
       "</table>\n",
       "</div>"
      ],
      "text/plain": [
       "    id  query_type1_pubs  query_type2_pubs  query_type3_pubs  \\\n",
       "0   16                93                 2                 0   \n",
       "1  114                12                 0                 0   \n",
       "2  131                 3                 0                 0   \n",
       "3  132                34                 0                 0   \n",
       "4  136                15                49                 2   \n",
       "\n",
       "   query_type4_pubs  query_type5_pubs  query_type6_pubs  \\\n",
       "0                 0                 0                 0   \n",
       "1              1978                 2                 2   \n",
       "2                 0                 0                 0   \n",
       "3                 0                 0                 0   \n",
       "4                15                49                 2   \n",
       "\n",
       "   no_related_pubs_jdc_website  \n",
       "0                            0  \n",
       "1                            1  \n",
       "2                            0  \n",
       "3                            0  \n",
       "4                            2  "
      ]
     },
     "execution_count": 1,
     "metadata": {},
     "output_type": "execute_result"
    }
   ],
   "source": [
    "import pandas as pd\n",
    "df = pd.read_csv(\"../data/semantic_scholar_query_results_with_web_count.csv\")\n",
    "df.head()"
   ]
  },
  {
   "cell_type": "markdown",
   "id": "18fd79bf",
   "metadata": {},
   "source": [
    "## Next steps\n",
    "After generating these queries, we run the queries we created from the raw file (“overview_all_datasets_2022_categorized.xlsx\") through the semantic scholar API. See [the next section](methods/semantic-search.md) for more details.\n",
    "\n",
    "\n",
    "## Citations\n",
    "\n",
    "The following papers informed our approach: {cite}`Bakke2016`.\n",
    "\n",
    "\n",
    "```{bibliography}\n",
    "```"
   ]
  }
 ],
 "metadata": {
  "jupytext": {
   "cell_metadata_filter": "-all",
   "formats": "md:myst",
   "text_representation": {
    "extension": ".md",
    "format_name": "myst",
    "format_version": 0.13,
    "jupytext_version": "1.11.5"
   }
  },
  "kernelspec": {
   "display_name": "Python 3",
   "language": "python",
   "name": "python3"
  },
  "language_info": {
   "codemirror_mode": {
    "name": "ipython",
    "version": 3
   },
   "file_extension": ".py",
   "mimetype": "text/x-python",
   "name": "python",
   "nbconvert_exporter": "python",
   "pygments_lexer": "ipython3",
   "version": "3.10.6"
  },
  "source_map": [
   14,
   41,
   46
  ]
 },
 "nbformat": 4,
 "nbformat_minor": 5
}