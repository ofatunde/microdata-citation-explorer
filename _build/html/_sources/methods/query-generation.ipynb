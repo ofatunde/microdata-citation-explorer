{
 "cells": [
  {
   "cell_type": "markdown",
   "id": "06d2636a",
   "metadata": {},
   "source": [
    "# Query Generation\n",
    "We begin by generating a set of search queries based on the metadata for each dataset.\n",
    "\n",
    "The full query creation notebook can be found at this link: \n",
    "[1]: https://github.com/ofatunde/mdl-explorer-app/blob/main/notebooks/Semantic_Scholar_NLP4DEV.ipynb \"Query notebook\"\n",
    "\n",
    "We start with simple methods of combining the metadata. The key metadata components that we use as an input into queries are:\n",
    "* Core survey name\n",
    "* Survey abbreviation (e.g., VaSyR)\n",
    "* Lead organization (e.g., UNHCR) - short or long versions may be used\n",
    "* Category (e.g., Socioeconomic Asessment of Refugees)\n",
    "* Country\n",
    "* Year \n",
    "\n",
    "For our initial exploration, we define six simple query types which represent different combinations of the information above :\n",
    "\n",
    "* Query type 1: lead_org_short + year + name + shortcode\n",
    "* Query type 2: lead_org_short + year + name + full_name\n",
    "* Query type 3: lead_org_short + year + name + shortcode_fullname\n",
    "* Query type 4: lead_org_long + year + name + shortcode\n",
    "* Query type 6: lead_org_long + year + name + shortcode_fullname\n",
    "\n",
    "Defining query structure is an important step, as the search output can be sensitive to the contents of the query used for the search. For example, the six queries above return different number of results if entered into Semantic Scholar. \n",
    "\n",
    "The table below shows the number of results returned by Semantic Scholar for each dataset."
   ]
  },
  {
   "cell_type": "code",
   "execution_count": 1,
   "id": "8323c5c3",
   "metadata": {
    "tags": [
     "output_scroll"
    ]
   },
   "outputs": [
    {
     "ename": "ModuleNotFoundError",
     "evalue": "No module named 'pandas'",
     "output_type": "error",
     "traceback": [
      "\u001b[0;31m---------------------------------------------------------------------------\u001b[0m",
      "\u001b[0;31mModuleNotFoundError\u001b[0m                       Traceback (most recent call last)",
      "Cell \u001b[0;32mIn[1], line 1\u001b[0m\n\u001b[0;32m----> 1\u001b[0m \u001b[38;5;28;01mimport\u001b[39;00m \u001b[38;5;21;01mpandas\u001b[39;00m \u001b[38;5;28;01mas\u001b[39;00m \u001b[38;5;21;01mpd\u001b[39;00m\n\u001b[1;32m      2\u001b[0m df \u001b[38;5;241m=\u001b[39m pd\u001b[38;5;241m.\u001b[39mread_csv(\u001b[38;5;124mr\u001b[39m\u001b[38;5;124m\"\u001b[39m\u001b[38;5;124mdata\u001b[39m\u001b[38;5;124m\\\u001b[39m\u001b[38;5;124msemantic_scholar_query_results_with_web_count.csv\u001b[39m\u001b[38;5;124m\"\u001b[39m)\n\u001b[1;32m      3\u001b[0m \u001b[38;5;28mprint\u001b[39m(df)\n",
      "\u001b[0;31mModuleNotFoundError\u001b[0m: No module named 'pandas'"
     ]
    }
   ],
   "source": [
    "import pandas as pd\n",
    "df = pd.read_csv(r\"data\\semantic_scholar_query_results_with_web_count.csv\")\n",
    "print(df)"
   ]
  },
  {
   "cell_type": "markdown",
   "id": "63f184cb",
   "metadata": {},
   "source": [
    "## Next steps\n",
    "After generating these queries, we run the queries we created from the raw file (“overview_all_datasets_2022_categorized.xlsx\") through the semantic scholar API. See [the next section](methods/semantic-search.md) for more details.\n",
    "\n",
    "\n",
    "## Citations\n",
    "\n",
    "The following papers informed our approach: {cite}`Bakke2016`.\n",
    "\n",
    "\n",
    "```{bibliography}\n",
    "```"
   ]
  }
 ],
 "metadata": {
  "jupytext": {
   "cell_metadata_filter": "-all",
   "formats": "md:myst",
   "text_representation": {
    "extension": ".md",
    "format_name": "myst",
    "format_version": 0.13,
    "jupytext_version": "1.11.5"
   }
  },
  "kernelspec": {
   "display_name": "Python 3",
   "language": "python",
   "name": "python3"
  },
  "language_info": {
   "codemirror_mode": {
    "name": "ipython",
    "version": 3
   },
   "file_extension": ".py",
   "mimetype": "text/x-python",
   "name": "python",
   "nbconvert_exporter": "python",
   "pygments_lexer": "ipython3",
   "version": "3.10.6"
  },
  "source_map": [
   14,
   41,
   46
  ]
 },
 "nbformat": 4,
 "nbformat_minor": 5
}