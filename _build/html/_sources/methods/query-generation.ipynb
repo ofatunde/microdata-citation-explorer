{
 "cells": [
  {
   "cell_type": "markdown",
   "id": "af4cd0d3",
   "metadata": {},
   "source": [
    "# Query Generation\n",
    "We begin by generating a set of search queries based on the metadata for each dataset.\n",
    "\n",
    "The full query creation notebook can be found [here](https://github.com/ofatunde/mdl-explorer-app/blob/main/notebooks/Semantic_Scholar_NLP4DEV.ipynb).\n",
    "\n",
    "We start with simple methods of combining the metadata. The key metadata components that we use as an input into queries are:\n",
    "* Core survey name\n",
    "* Survey abbreviation (e.g., VaSyR)\n",
    "* Lead organization (e.g., UNHCR) - short or long versions may be used\n",
    "* Category (e.g., Socioeconomic Asessment of Refugees)\n",
    "* Country\n",
    "* Year \n",
    "\n",
    "For our initial exploration, we define six simple query types which represent different combinations of the information above :\n",
    "\n",
    "* __Query type 1:__ lead_org_short + year + name + shortcode\n",
    "* __Query type 2:__ lead_org_short + year + name + full_name\n",
    "* __Query type 3:__ lead_org_short + year + name + shortcode_fullname\n",
    "* __Query type 4:__ lead_org_long + year + name + shortcode\n",
    "* __Query type 6:__ lead_org_long + year + name + shortcode_fullname\n",
    "\n",
    "Defining query structure is an important step, as the search output can be sensitive to the contents of the query used for the search. For example, the six queries above return different number of results if entered into Semantic Scholar. \n",
    "\n",
    "The table below shows the number of results returned by Semantic Scholar for each dataset."
   ]
  },
  {
   "cell_type": "code",
   "execution_count": 1,
   "id": "4b9723e1",
   "metadata": {
    "tags": [
     "output_scroll",
     "hide-input"
    ]
   },
   "outputs": [
    {
     "name": "stdout",
     "output_type": "stream",
     "text": [
      "      id  query_type1_pubs  query_type2_pubs  query_type3_pubs  \\\n",
      "0     16                93                 2                 0   \n",
      "1    114                12                 0                 0   \n",
      "2    131                 3                 0                 0   \n",
      "3    132                34                 0                 0   \n",
      "4    136                15                49                 2   \n",
      "..   ...               ...               ...               ...   \n",
      "478  699                 2                 8                 0   \n",
      "479  700                 2                 8                 0   \n",
      "480  701                 1                 1                 0   \n",
      "481  703                 6                 0                 0   \n",
      "482  704                 0                 0                 0   \n",
      "\n",
      "     query_type4_pubs  query_type5_pubs  query_type6_pubs  \\\n",
      "0                   0                 0                 0   \n",
      "1                1978                 2                 2   \n",
      "2                   0                 0                 0   \n",
      "3                   0                 0                 0   \n",
      "4                  15                49                 2   \n",
      "..                ...               ...               ...   \n",
      "478                 0                 0                 0   \n",
      "479                 0                 0                 0   \n",
      "480                 0                 0                 0   \n",
      "481                 0                 0                 0   \n",
      "482                 0                 0                 0   \n",
      "\n",
      "     no_related_pubs_jdc_website  \n",
      "0                              0  \n",
      "1                              1  \n",
      "2                              0  \n",
      "3                              0  \n",
      "4                              2  \n",
      "..                           ...  \n",
      "478                            0  \n",
      "479                            0  \n",
      "480                            0  \n",
      "481                            0  \n",
      "482                            0  \n",
      "\n",
      "[483 rows x 8 columns]\n"
     ]
    }
   ],
   "source": [
    "import pandas as pd\n",
    "df = pd.read_csv(\"../data/semantic_scholar_query_results_with_web_count.csv\")\n",
    "print(df)"
   ]
  },
  {
   "cell_type": "markdown",
   "id": "e36d13d9",
   "metadata": {},
   "source": [
    "Each of these query strings is subsequently passed into the Semantic Scholar API. The following function generates a single query which can serve as an argument into another function."
   ]
  },
  {
   "cell_type": "code",
   "execution_count": 2,
   "id": "bee18476",
   "metadata": {},
   "outputs": [],
   "source": [
    "# This function takes in the name of our dataframe, the id of the data set and the query number and returns the query.\n",
    "def query_finder(df_name: pd.DataFrame, dataset_id: int = 189, query_number:int =1 )->str:\n",
    "    \"\"\" Function takes in the query dataframe, the dataset ID and the query type number and retuns the query itself\"\"\"\n",
    "    df_indexid = df_name.set_index('id')\n",
    "    query = df_indexid.loc[189][f\"query_type{query_number}\"]\n",
    "    return query "
   ]
  },
  {
   "cell_type": "markdown",
   "id": "2d984813",
   "metadata": {},
   "source": [
    "Future work will draw on more sophisticated methods of constructing queries.\n",
    "\n",
    "## Next steps\n",
    "After generating these queries, we treat them as inputs to the Semantic Scholar API. See [the next section](methods/semantic-search.md) for more details.\n",
    "\n",
    "\n",
    "\n",
    "## Citations\n",
    "\n",
    "The following papers informed our approach: {cite}`Bakke2016`.\n",
    "\n",
    "\n",
    "```{bibliography}\n",
    "```"
   ]
  }
 ],
 "metadata": {
  "jupytext": {
   "cell_metadata_filter": "-all",
   "formats": "md:myst",
   "text_representation": {
    "extension": ".md",
    "format_name": "myst",
    "format_version": 0.13,
    "jupytext_version": "1.11.5"
   }
  },
  "kernelspec": {
   "display_name": "Python 3",
   "language": "python",
   "name": "python3"
  },
  "language_info": {
   "codemirror_mode": {
    "name": "ipython",
    "version": 3
   },
   "file_extension": ".py",
   "mimetype": "text/x-python",
   "name": "python",
   "nbconvert_exporter": "python",
   "pygments_lexer": "ipython3",
   "version": "3.10.6"
  },
  "source_map": [
   14,
   40,
   45,
   49,
   56
  ]
 },
 "nbformat": 4,
 "nbformat_minor": 5
}