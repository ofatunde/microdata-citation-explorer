{
 "cells": [
  {
   "cell_type": "markdown",
   "id": "f806a184",
   "metadata": {},
   "source": [
    "# Dataset selection"
   ]
  },
  {
   "cell_type": "code",
   "execution_count": 1,
   "id": "43573134",
   "metadata": {
    "tags": [
     "output_scroll",
     "hide-input"
    ]
   },
   "outputs": [
    {
     "ename": "NameError",
     "evalue": "name 'repository_list' is not defined",
     "output_type": "error",
     "traceback": [
      "\u001b[0;31m---------------------------------------------------------------------------\u001b[0m",
      "\u001b[0;31mNameError\u001b[0m                                 Traceback (most recent call last)",
      "Cell \u001b[0;32mIn[1], line 7\u001b[0m\n\u001b[1;32m      3\u001b[0m \u001b[38;5;28;01mimport\u001b[39;00m \u001b[38;5;21;01mipywidgets\u001b[39;00m \u001b[38;5;28;01mas\u001b[39;00m \u001b[38;5;21;01mwidgets\u001b[39;00m\n\u001b[1;32m      4\u001b[0m \u001b[38;5;28;01mfrom\u001b[39;00m \u001b[38;5;21;01mIPython\u001b[39;00m\u001b[38;5;21;01m.\u001b[39;00m\u001b[38;5;21;01mdisplay\u001b[39;00m \u001b[38;5;28;01mimport\u001b[39;00m display\n\u001b[1;32m      6\u001b[0m repo_dropdown \u001b[38;5;241m=\u001b[39m widgets\u001b[38;5;241m.\u001b[39mDropdown(\n\u001b[0;32m----> 7\u001b[0m     options\u001b[38;5;241m=\u001b[39m\u001b[43mrepository_list\u001b[49m,\n\u001b[1;32m      8\u001b[0m     value\u001b[38;5;241m=\u001b[39m\u001b[38;5;124m'\u001b[39m\u001b[38;5;124mEurope\u001b[39m\u001b[38;5;124m'\u001b[39m,\n\u001b[1;32m      9\u001b[0m     description\u001b[38;5;241m=\u001b[39m\u001b[38;5;124m'\u001b[39m\u001b[38;5;124mRepository:\u001b[39m\u001b[38;5;124m'\u001b[39m,\n\u001b[1;32m     10\u001b[0m     disabled\u001b[38;5;241m=\u001b[39m\u001b[38;5;28;01mFalse\u001b[39;00m,\n\u001b[1;32m     11\u001b[0m )\n\u001b[1;32m     13\u001b[0m category_dropdown \u001b[38;5;241m=\u001b[39m widgets\u001b[38;5;241m.\u001b[39mDropdown(\n\u001b[1;32m     14\u001b[0m     options\u001b[38;5;241m=\u001b[39mcategory_list,\n\u001b[1;32m     15\u001b[0m     value\u001b[38;5;241m=\u001b[39m\u001b[38;5;124m'\u001b[39m\u001b[38;5;124mKAP WASH Survey\u001b[39m\u001b[38;5;124m'\u001b[39m,\n\u001b[1;32m     16\u001b[0m     description\u001b[38;5;241m=\u001b[39m\u001b[38;5;124m'\u001b[39m\u001b[38;5;124mSurvey Category:\u001b[39m\u001b[38;5;124m'\u001b[39m,\n\u001b[1;32m     17\u001b[0m     disabled\u001b[38;5;241m=\u001b[39m\u001b[38;5;28;01mFalse\u001b[39;00m,\n\u001b[1;32m     18\u001b[0m )\n\u001b[1;32m     20\u001b[0m country_dropdown \u001b[38;5;241m=\u001b[39m widgets\u001b[38;5;241m.\u001b[39mDropdown(\n\u001b[1;32m     21\u001b[0m     options\u001b[38;5;241m=\u001b[39mcountry_list,\n\u001b[1;32m     22\u001b[0m     value\u001b[38;5;241m=\u001b[39m\u001b[38;5;124m'\u001b[39m\u001b[38;5;124mLebanon\u001b[39m\u001b[38;5;124m'\u001b[39m,\n\u001b[1;32m     23\u001b[0m     description\u001b[38;5;241m=\u001b[39m\u001b[38;5;124m'\u001b[39m\u001b[38;5;124mSurvey Country:\u001b[39m\u001b[38;5;124m'\u001b[39m,\n\u001b[1;32m     24\u001b[0m     disabled\u001b[38;5;241m=\u001b[39m\u001b[38;5;28;01mFalse\u001b[39;00m,\n\u001b[1;32m     25\u001b[0m )\n",
      "\u001b[0;31mNameError\u001b[0m: name 'repository_list' is not defined"
     ]
    }
   ],
   "source": [
    "#from glueviz import glue\n",
    "from myst_nb import glue\n",
    "import ipywidgets as widgets\n",
    "from IPython.display import display\n",
    "\n",
    "repo_dropdown = widgets.Dropdown(\n",
    "    options=repository_list,\n",
    "    value='Europe',\n",
    "    description='Repository:',\n",
    "    disabled=False,\n",
    ")\n",
    "\n",
    "category_dropdown = widgets.Dropdown(\n",
    "    options=category_list,\n",
    "    value='KAP WASH Survey',\n",
    "    description='Survey Category:',\n",
    "    disabled=False,\n",
    ")\n",
    "\n",
    "country_dropdown = widgets.Dropdown(\n",
    "    options=country_list,\n",
    "    value='Lebanon',\n",
    "    description='Survey Country:',\n",
    "    disabled=False,\n",
    ")\n",
    "\n",
    "year_dropdown = widgets.Dropdown(\n",
    "    options=year_list,\n",
    "    value=2018,\n",
    "    description='Survey Year:',\n",
    "    disabled=False,\n",
    ")\n",
    "\n",
    "##df  = pd.read_csv(\"data/dataset189_query1.csv\")\n",
    "#glue(\"df_tbl\", df)\n",
    "\n",
    "display(repo_dropdown)\n",
    "display(country_dropdown)\n",
    "display(category_dropdown)\n",
    "display(year_dropdown)"
   ]
  },
  {
   "cell_type": "markdown",
   "id": "c8f8668b",
   "metadata": {},
   "source": [
    "# Model output\n",
    "Each model returns a list of papers with the following information:\n",
    "\n",
    "* Dataset Title\n",
    "* Paper Title\n",
    "* Binary relevance\n",
    "* Continunous relevance score\n",
    "* Number of JDC tags mentioned\n",
    "* Percentage of paper dedicated to forced displacement"
   ]
  }
 ],
 "metadata": {
  "jupytext": {
   "formats": "md:myst",
   "text_representation": {
    "extension": ".md",
    "format_name": "myst"
   }
  },
  "kernelspec": {
   "display_name": "Python 3",
   "language": "python",
   "name": "python3"
  },
  "language_info": {
   "codemirror_mode": {
    "name": "ipython",
    "version": 3
   },
   "file_extension": ".py",
   "mimetype": "text/x-python",
   "name": "python",
   "nbconvert_exporter": "python",
   "pygments_lexer": "ipython3",
   "version": "3.10.6"
  },
  "source_map": [
   11,
   15,
   57
  ]
 },
 "nbformat": 4,
 "nbformat_minor": 5
}