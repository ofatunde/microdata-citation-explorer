{
 "cells": [
  {
   "cell_type": "markdown",
   "id": "9854aef4",
   "metadata": {},
   "source": [
    "# Dataset selection"
   ]
  },
  {
   "cell_type": "code",
   "execution_count": 1,
   "id": "250cfac9",
   "metadata": {
    "tags": [
     "output_scroll",
     "hide-input"
    ]
   },
   "outputs": [
    {
     "ename": "AttributeError",
     "evalue": "module 'pandas' has no attribute 'read'",
     "output_type": "error",
     "traceback": [
      "\u001b[0;31m---------------------------------------------------------------------------\u001b[0m",
      "\u001b[0;31mAttributeError\u001b[0m                            Traceback (most recent call last)",
      "Cell \u001b[0;32mIn[1], line 7\u001b[0m\n\u001b[1;32m      4\u001b[0m \u001b[38;5;28;01mimport\u001b[39;00m \u001b[38;5;21;01mipywidgets\u001b[39;00m \u001b[38;5;28;01mas\u001b[39;00m \u001b[38;5;21;01mwidgets\u001b[39;00m\n\u001b[1;32m      5\u001b[0m \u001b[38;5;28;01mfrom\u001b[39;00m \u001b[38;5;21;01mIPython\u001b[39;00m\u001b[38;5;21;01m.\u001b[39;00m\u001b[38;5;21;01mdisplay\u001b[39;00m \u001b[38;5;28;01mimport\u001b[39;00m display\n\u001b[0;32m----> 7\u001b[0m latest_data_with_categories \u001b[38;5;241m=\u001b[39m \u001b[43mpd\u001b[49m\u001b[38;5;241;43m.\u001b[39;49m\u001b[43mread\u001b[49m\u001b[38;5;241m.\u001b[39mcsv(\u001b[38;5;124m\"\u001b[39m\u001b[38;5;124mdata/latest_data_with_categories.csv\u001b[39m\u001b[38;5;124m\"\u001b[39m)\n\u001b[1;32m      9\u001b[0m repository_list \u001b[38;5;241m=\u001b[39m latest_data_with_categories[\u001b[38;5;124m'\u001b[39m\u001b[38;5;124mrepo_title\u001b[39m\u001b[38;5;124m'\u001b[39m]\u001b[38;5;241m.\u001b[39munique()\u001b[38;5;241m.\u001b[39mtolist()\n\u001b[1;32m     10\u001b[0m category_list \u001b[38;5;241m=\u001b[39m latest_data_with_categories[\u001b[38;5;124m'\u001b[39m\u001b[38;5;124mCategory\u001b[39m\u001b[38;5;124m'\u001b[39m]\u001b[38;5;241m.\u001b[39munique()\u001b[38;5;241m.\u001b[39mtolist()\n",
      "File \u001b[0;32m~/.local/lib/python3.10/site-packages/pandas/__init__.py:264\u001b[0m, in \u001b[0;36m__getattr__\u001b[0;34m(name)\u001b[0m\n\u001b[1;32m    260\u001b[0m     \u001b[38;5;28;01mfrom\u001b[39;00m \u001b[38;5;21;01mpandas\u001b[39;00m\u001b[38;5;21;01m.\u001b[39;00m\u001b[38;5;21;01mcore\u001b[39;00m\u001b[38;5;21;01m.\u001b[39;00m\u001b[38;5;21;01marrays\u001b[39;00m\u001b[38;5;21;01m.\u001b[39;00m\u001b[38;5;21;01msparse\u001b[39;00m \u001b[38;5;28;01mimport\u001b[39;00m SparseArray \u001b[38;5;28;01mas\u001b[39;00m _SparseArray\n\u001b[1;32m    262\u001b[0m     \u001b[38;5;28;01mreturn\u001b[39;00m _SparseArray\n\u001b[0;32m--> 264\u001b[0m \u001b[38;5;28;01mraise\u001b[39;00m \u001b[38;5;167;01mAttributeError\u001b[39;00m(\u001b[38;5;124mf\u001b[39m\u001b[38;5;124m\"\u001b[39m\u001b[38;5;124mmodule \u001b[39m\u001b[38;5;124m'\u001b[39m\u001b[38;5;124mpandas\u001b[39m\u001b[38;5;124m'\u001b[39m\u001b[38;5;124m has no attribute \u001b[39m\u001b[38;5;124m'\u001b[39m\u001b[38;5;132;01m{\u001b[39;00mname\u001b[38;5;132;01m}\u001b[39;00m\u001b[38;5;124m'\u001b[39m\u001b[38;5;124m\"\u001b[39m)\n",
      "\u001b[0;31mAttributeError\u001b[0m: module 'pandas' has no attribute 'read'"
     ]
    }
   ],
   "source": [
    "#from glueviz import glue\n",
    "from myst_nb import glue\n",
    "import pandas as pd\n",
    "import ipywidgets as widgets\n",
    "from IPython.display import display\n",
    "\n",
    "latest_data_with_categories = pd.read.csv(\"data/latest_data_with_categories.csv\")\n",
    "\n",
    "repository_list = latest_data_with_categories['repo_title'].unique().tolist()\n",
    "category_list = latest_data_with_categories['Category'].unique().tolist()\n",
    "country_list = latest_data_with_categories['nation'].unique().tolist()\n",
    "year_list = latest_data_with_categories['year_end'].unique().tolist()\n",
    "dataset_list = latest_data_with_categories['title'].unique().tolist()\n",
    "query_type = ['1', '2', '3','4','5','6']\n",
    "\n",
    "repo_dropdown = widgets.Dropdown(\n",
    "    options=repository_list,\n",
    "    value='Europe',\n",
    "    description='Repository:',\n",
    "    disabled=False,\n",
    ")\n",
    "\n",
    "category_dropdown = widgets.Dropdown(\n",
    "    options=category_list,\n",
    "    value='KAP WASH Survey',\n",
    "    description='Survey Category:',\n",
    "    disabled=False,\n",
    ")\n",
    "\n",
    "country_dropdown = widgets.Dropdown(\n",
    "    options=country_list,\n",
    "    value='Lebanon',\n",
    "    description='Survey Country:',\n",
    "    disabled=False,\n",
    ")\n",
    "\n",
    "year_dropdown = widgets.Dropdown(\n",
    "    options=year_list,\n",
    "    value=2018,\n",
    "    description='Survey Year:',\n",
    "    disabled=False,\n",
    ")\n",
    "\n",
    "##df  = pd.read_csv(\"data/dataset189_query1.csv\")\n",
    "#glue(\"df_tbl\", df)\n",
    "\n",
    "display(repo_dropdown)\n",
    "display(country_dropdown)\n",
    "display(category_dropdown)\n",
    "display(year_dropdown)"
   ]
  },
  {
   "cell_type": "markdown",
   "id": "731fe4d3",
   "metadata": {},
   "source": [
    "# Model output\n",
    "Each model returns a list of papers with the following information:\n",
    "\n",
    "* Dataset Title\n",
    "* Paper Title\n",
    "* Binary relevance\n",
    "* Continunous relevance score\n",
    "* Number of JDC tags mentioned\n",
    "* Percentage of paper dedicated to forced displacement"
   ]
  }
 ],
 "metadata": {
  "jupytext": {
   "formats": "md:myst",
   "text_representation": {
    "extension": ".md",
    "format_name": "myst"
   }
  },
  "kernelspec": {
   "display_name": "Python 3",
   "language": "python",
   "name": "python3"
  },
  "language_info": {
   "codemirror_mode": {
    "name": "ipython",
    "version": 3
   },
   "file_extension": ".py",
   "mimetype": "text/x-python",
   "name": "python",
   "nbconvert_exporter": "python",
   "pygments_lexer": "ipython3",
   "version": "3.10.6"
  },
  "source_map": [
   11,
   15,
   67
  ]
 },
 "nbformat": 4,
 "nbformat_minor": 5
}