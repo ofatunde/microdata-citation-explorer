{
 "cells": [
  {
   "cell_type": "markdown",
   "id": "863127c0",
   "metadata": {},
   "source": [
    "# Case Study: VaSyR 2018\n",
    "\n",
    "In this section, we present an end-to-end example using a sample dataset. Information about the dataset can be found on [this page](https://microdata.unhcr.org/index.php/catalog/189).\n",
    "\n",
    "## Query generation\n",
    "\n",
    "For the sample dataset, the six query formulations returned between one and 18 potentially relevant papers.\n",
    "\n",
    "|  \t| **Query String** \t| **Number of results** | \n",
    "|---\t|:---:\t|:---:\t|\n",
    "| 1 \t| 'UNHCR Lebanon 2018 VASYR'\t| 18\t|\n",
    "| 2 \t| 'UNHCR Lebanon 2018 Vulnerability Assessment of Syrian 0Refugees (VASYR)' | 5 |\n",
    "| 3 \t| 'UNHCR Lebanon 2018 VASYR Vulnerability Assessment of Syrian efugees (VASYR)'\t| 2\t|\n",
    "| 4 \t| 'UNHCR, WFP, UNICEF Lebanon 2018 VASYR'\t| 6\t|\n",
    "| 5 \t| 'UNHCR, WFP, UNICEF Lebanon 2018 Vulnerability Assessment of Syrian Refugees (VASYR)' | 2 |\n",
    "| 6 \t| 'UNHCR, WFP, UNICEF Lebanon 2018 VASYR Vulnerability Assessment of Syrian Refugees (VASYR)' \t|1\t|"
   ]
  },
  {
   "cell_type": "code",
   "execution_count": 1,
   "id": "c0f2d332",
   "metadata": {
    "tags": [
     "output_scroll",
     "hide-input"
    ]
   },
   "outputs": [
    {
     "name": "stdout",
     "output_type": "stream",
     "text": [
      "     id  query_type1_pubs  query_type2_pubs  query_type3_pubs  \\\n",
      "27  189                16                 3                 1   \n",
      "\n",
      "    query_type4_pubs  query_type5_pubs  query_type6_pubs  \\\n",
      "27                 6                 0                 1   \n",
      "\n",
      "    no_related_pubs_jdc_website  \n",
      "27                           13  \n"
     ]
    }
   ],
   "source": [
    "import pandas as pd\n",
    "df = pd.read_csv(\"data/semantic_scholar_query_results_with_web_count.csv\")\n",
    "print(df[df[\"id\"] == 189])"
   ]
  },
  {
   "cell_type": "markdown",
   "id": "4988cb79",
   "metadata": {},
   "source": [
    "## Semantic Search\n",
    "For query 1, below is the output returned from Semantic Scholar for 18 potentially relevant papers"
   ]
  },
  {
   "cell_type": "code",
   "execution_count": 2,
   "id": "85ef0786",
   "metadata": {},
   "outputs": [
    {
     "ename": "ModuleNotFoundError",
     "evalue": "No module named 'glueviz'",
     "output_type": "error",
     "traceback": [
      "\u001b[0;31m---------------------------------------------------------------------------\u001b[0m",
      "\u001b[0;31mModuleNotFoundError\u001b[0m                       Traceback (most recent call last)",
      "Cell \u001b[0;32mIn[2], line 1\u001b[0m\n\u001b[0;32m----> 1\u001b[0m \u001b[38;5;28;01mfrom\u001b[39;00m \u001b[38;5;21;01mglueviz\u001b[39;00m \u001b[38;5;28;01mimport\u001b[39;00m glue\n\u001b[1;32m      2\u001b[0m df  \u001b[38;5;241m=\u001b[39m pd\u001b[38;5;241m.\u001b[39mread_csv(\u001b[38;5;124m\"\u001b[39m\u001b[38;5;124mdata/dataset189_query1.csv\u001b[39m\u001b[38;5;124m\"\u001b[39m)\n\u001b[1;32m      3\u001b[0m glue(\u001b[38;5;124m\"\u001b[39m\u001b[38;5;124mdf_tbl\u001b[39m\u001b[38;5;124m\"\u001b[39m, df)\n",
      "\u001b[0;31mModuleNotFoundError\u001b[0m: No module named 'glueviz'"
     ]
    }
   ],
   "source": [
    "from glueviz import glue\n",
    "df  = pd.read_csv(\"data/dataset189_query1.csv\")\n",
    "glue(\"df_tbl\", df)"
   ]
  },
  {
   "cell_type": "code",
   "execution_count": null,
   "id": "1c5907c4",
   "metadata": {},
   "outputs": [],
   "source": [
    "import observable_jupyter_widget\n",
    "import ipywidgets as widgets\n",
    "from pprint import pprint\n",
    "w = observable_jupyter_widget.ObservableWidget(\n",
    "    '@microdata-citation-explorer/query-generation',\n",
    "    cells=['viewof table','typed_entry'], # optional\n",
    "    inputs={'typed_entry': 189},  # optional\n",
    "    outputs=['viewof table','typed_entry']  # optional\n",
    ")\n",
    "w"
   ]
  },
  {
   "cell_type": "markdown",
   "id": "f9573861",
   "metadata": {},
   "source": [
    "## Topic Modeling\n",
    "Out of the XX papers returned across the six query types, YYY had abstracts available in either the NLP4Dev or Semantic Scholar corpuses, and ZZZ had full body text available.\n",
    "\n",
    "These were used as inputs to the NLP4Dev API, as described in [Section 3.5](methods/topic-modeling-and-sentiment-analysis.md).\n",
    "\n",
    "XXX were defined as relevant.\n",
    "\n",
    "## Model Output\n",
    "Following manual review of the papers identified automatically, XXX were confirmed as relevant. Of these XXX, YYY had previously been identified through the manual procedure, and ZZZ were new.\n",
    "\n",
    "This represents a XXX percent improvement over the baseline.\n",
    "\n",
    "## Evaluating Model Performance\n",
    "Based on our selected evaluation metric, Query X performed most effectively\n",
    "\n",
    "## Network analysis\n",
    "Of the papers that referenced this dataset, XYZ came from ABC geographies and ABC instutions."
   ]
  }
 ],
 "metadata": {
  "jupytext": {
   "formats": "md:myst",
   "text_representation": {
    "extension": ".md",
    "format_name": "myst"
   }
  },
  "kernelspec": {
   "display_name": "Python 3",
   "language": "python",
   "name": "python3"
  },
  "language_info": {
   "codemirror_mode": {
    "name": "ipython",
    "version": 3
   },
   "file_extension": ".py",
   "mimetype": "text/x-python",
   "name": "python",
   "nbconvert_exporter": "python",
   "pygments_lexer": "ipython3",
   "version": "3.10.6"
  },
  "source_map": [
   11,
   30,
   35,
   40,
   46,
   57
  ]
 },
 "nbformat": 4,
 "nbformat_minor": 5
}