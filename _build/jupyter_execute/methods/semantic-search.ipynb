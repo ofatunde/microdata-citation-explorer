{
 "cells": [
  {
   "cell_type": "markdown",
   "id": "ffedae59",
   "metadata": {},
   "source": [
    "# Semantic search\n",
    "\n",
    "We made use of the [Semantic Scholar API](https://www.semanticscholar.org/product/api). For each of the query strings generated in the last section, we pass them to the [\"Paper Lookup\" API endpoint](https://api.semanticscholar.org/api-docs/graph#tag/Paper-Data), which we access through the [SemanticScholar Python library](https://github.com/danielnsilva/semanticscholar) using the following call:"
   ]
  },
  {
   "cell_type": "code",
   "execution_count": 1,
   "id": "5027753a",
   "metadata": {},
   "outputs": [
    {
     "ename": "NameError",
     "evalue": "name 'SemanticScholar' is not defined",
     "output_type": "error",
     "traceback": [
      "\u001b[0;31m---------------------------------------------------------------------------\u001b[0m",
      "\u001b[0;31mNameError\u001b[0m                                 Traceback (most recent call last)",
      "Cell \u001b[0;32mIn[1], line 1\u001b[0m\n\u001b[0;32m----> 1\u001b[0m sch \u001b[38;5;241m=\u001b[39m \u001b[43mSemanticScholar\u001b[49m()\n\u001b[1;32m      2\u001b[0m query_type1 \u001b[38;5;241m=\u001b[39m []\n\u001b[1;32m      3\u001b[0m \u001b[38;5;28;01mfor\u001b[39;00m i \u001b[38;5;129;01min\u001b[39;00m dfq[\u001b[38;5;124m\"\u001b[39m\u001b[38;5;124mquery_type1\u001b[39m\u001b[38;5;124m\"\u001b[39m]:\n",
      "\u001b[0;31mNameError\u001b[0m: name 'SemanticScholar' is not defined"
     ]
    }
   ],
   "source": [
    "sch = SemanticScholar()\n",
    "query_type1 = []\n",
    "for i in dfq[\"query_type1\"]:\n",
    "    results = sch.search_paper(i)\n",
    "    query_type1.append(results)"
   ]
  },
  {
   "cell_type": "markdown",
   "id": "43225e4e",
   "metadata": {},
   "source": [
    "The output is an object which includes (among others) the following information:\n",
    "* Dataset ID\n",
    "* Paper IDs (includes SS's internal ID, as well as external IDs such as DOI, arXiv, Pubmed, etc. where available)\n",
    "* Title\n",
    "* Authors\n",
    "* Publication venue\n",
    "* Publication year\n",
    "* Field of Study\n",
    "* Count of inbound and outbound citations\n",
    "* URL\n",
    "* Abstract\n",
    "* PDF availability (indicates whether the full PDF is included in the corpus, and whether the abstract, body, and bibliographic entries are available in parsedt format)\n",
    "\n",
    "We extract abstracts from this output, giving us an abstract for each dataset-query-paper combination where an abstract is available. The abstract, together with the indicator of PDF availability, serves as an input into our topic modeling procedure (see the next section.)"
   ]
  },
  {
   "cell_type": "code",
   "execution_count": null,
   "id": "3cdf4737",
   "metadata": {},
   "outputs": [],
   "source": [
    "def semantic_search(query:str)->pd.DataFrame:\n",
    "    \"\"\" This function takes in a query (from the query_finder function) and returns a dataframe of abtracts and corpus IDS\"\"\"\n",
    "    sch = SemanticScholar()\n",
    "    results = sch.search_paper(query)\n",
    "    \n",
    "    #metadata\n",
    "    ### Add title\n",
    "    abstracts = [item.abstract for item in results]\n",
    "    identifiers =  [item.externalIds for item in results]\n",
    "    API_corpus_ID = [i.get(\"CorpusId\") for i in identifiers] # we can return whatever we want here.     \n",
    "    return pd.DataFrame(list(zip(abstracts, API_corpus_ID)), columns = ['abstract', 'corpus_id'])"
   ]
  },
  {
   "cell_type": "markdown",
   "id": "55d4f35f",
   "metadata": {},
   "source": [
    "Where available, we also parse PDF content. When we parse a PDF, the output is an object which includes (among others) the following information:\n",
    "* Paper ID\n",
    "* PDF hash\n",
    "* Abstract (if available)\n",
    "* Body text (if available)\n",
    "* Bibliographic entries\n",
    "\n",
    "% From the Semantic Scholar API, we get the datasets labeled **“query_typex_abs,”** where the x  in the name = 1,2,3,4,5,6 refers to the query type. These datasets contain the following variables: **paper title, abstract, corpus ID (also called paper ID), author IDs, Digital Object identifiers (DOIs), publication year,** the **journal**  where the paper was published, and the **dataset ID**. These metadata datasets will be merged with the metadata datasets we get from the NLP4DEV API website.\n",
    "\n",
    "## Citations\n",
    "\n",
    "The following papers informed our approach: {cite}`Fast2016`,{cite}`Chen2006`.\n",
    "\n",
    "\n",
    "```{bibliography}\n",
    "```"
   ]
  }
 ],
 "metadata": {
  "jupytext": {
   "cell_metadata_filter": "-all",
   "formats": "md:myst",
   "text_representation": {
    "extension": ".md",
    "format_name": "myst",
    "format_version": 0.13,
    "jupytext_version": "1.11.5"
   }
  },
  "kernelspec": {
   "display_name": "Python 3",
   "language": "python",
   "name": "python3"
  },
  "language_info": {
   "codemirror_mode": {
    "name": "ipython",
    "version": 3
   },
   "file_extension": ".py",
   "mimetype": "text/x-python",
   "name": "python",
   "nbconvert_exporter": "python",
   "pygments_lexer": "ipython3",
   "version": "3.10.6"
  },
  "source_map": [
   14,
   20,
   26,
   42,
   54
  ]
 },
 "nbformat": 4,
 "nbformat_minor": 5
}