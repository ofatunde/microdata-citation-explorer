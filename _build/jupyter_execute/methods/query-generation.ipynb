{
 "cells": [
  {
   "cell_type": "markdown",
   "id": "2ce5a6d3",
   "metadata": {},
   "source": [
    "# Query Generation\n",
    "We begin by generating a set of search queries based on the metadata for each dataset.\n",
    "\n",
    "The full query creation notebook can be found at this link: \n",
    "[1]: https://github.com/ofatunde/mdl-explorer-app/blob/main/notebooks/Semantic_Scholar_NLP4DEV.ipynb \"Query notebook\"\n",
    "\n",
    "We start with simple methods of combining the metadata. The key metadata components that we use as an input into queries are:\n",
    "* Core survey name\n",
    "* Survey abbreviation (e.g., VaSyR)\n",
    "* Lead organization (e.g., UNHCR) - short or long versions may be used\n",
    "* Category (e.g., Socioeconomic Asessment of Refugees)\n",
    "* Country\n",
    "* Year \n",
    "\n",
    "For our initial exploration, we define six simple query types which represent different combinations of the information above :\n",
    "\n",
    "* Query type 1: lead_org_short + year + name + shortcode\n",
    "* Query type 2: lead_org_short + year + name + full_name\n",
    "* Query type 3: lead_org_short + year + name + shortcode_fullname\n",
    "* Query type 4: lead_org_long + year + name + shortcode\n",
    "* Query type 6: lead_org_long + year + name + shortcode_fullname\n",
    "\n",
    "Defining query structure is an important step, as the search output can be sensitive to the contents of the query used for the search. For example, the six queries above return different number of results if entered into Semantic Scholar. \n",
    "\n",
    "The table below shows the number of results returned by Semantic Scholar for each dataset."
   ]
  },
  {
   "cell_type": "code",
   "execution_count": 1,
   "id": "e3add06b",
   "metadata": {},
   "outputs": [
    {
     "ename": "SyntaxError",
     "evalue": "illegal target for annotation (1247448771.py, line 1)",
     "output_type": "error",
     "traceback": [
      "\u001b[0;36m  Cell \u001b[0;32mIn[1], line 1\u001b[0;36m\u001b[0m\n\u001b[0;31m    \"tags\": [\u001b[0m\n\u001b[0m    ^\u001b[0m\n\u001b[0;31mSyntaxError\u001b[0m\u001b[0;31m:\u001b[0m illegal target for annotation\n"
     ]
    }
   ],
   "source": [
    "\"tags\": [\n",
    "        \"output_scroll\",\n",
    "    ]\n",
    "import pandas as pd\n",
    "df = pd.read_csv(r\"data\\semantic_scholar_query_results_with_web_count.csv\")\n",
    "print(df)"
   ]
  },
  {
   "cell_type": "markdown",
   "id": "9489f065",
   "metadata": {},
   "source": [
    "## Next steps\n",
    "After generating these queries, we run the queries we created from the raw file (“overview_all_datasets_2022_categorized.xlsx\") through the semantic scholar API. See [the next section](methods/semantic-search.md) for more details.\n",
    "\n",
    "\n",
    "## Citations\n",
    "\n",
    "The following papers informed our approach: {cite}`Bakke2016`.\n",
    "\n",
    "\n",
    "```{bibliography}\n",
    "```"
   ]
  }
 ],
 "metadata": {
  "jupytext": {
   "cell_metadata_filter": "-all",
   "formats": "md:myst",
   "text_representation": {
    "extension": ".md",
    "format_name": "myst",
    "format_version": 0.13,
    "jupytext_version": "1.11.5"
   }
  },
  "kernelspec": {
   "display_name": "Python 3",
   "language": "python",
   "name": "python3"
  },
  "language_info": {
   "codemirror_mode": {
    "name": "ipython",
    "version": 3
   },
   "file_extension": ".py",
   "mimetype": "text/x-python",
   "name": "python",
   "nbconvert_exporter": "python",
   "pygments_lexer": "ipython3",
   "version": "3.10.6"
  },
  "source_map": [
   14,
   41,
   48
  ]
 },
 "nbformat": 4,
 "nbformat_minor": 5
}