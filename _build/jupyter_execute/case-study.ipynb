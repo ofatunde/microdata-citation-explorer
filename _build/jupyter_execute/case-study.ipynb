{
 "cells": [
  {
   "cell_type": "markdown",
   "id": "01dde72f",
   "metadata": {},
   "source": [
    "# Case Study: VaSyR 2018\n",
    "\n",
    "In this section, we present an end-to-end example using a sample dataset. Information about the dataset can be found on [this page](https://microdata.unhcr.org/index.php/catalog/189).\n",
    "\n",
    "## Query generation\n",
    "\n",
    "For the sample dataset, the six query formulations returned between one and 18 potentially relevant papers.\n",
    "\n",
    "|  \t| **Query String** \t| **Number of results** | \n",
    "|---\t|:---:\t|:---:\t|\n",
    "| 1 \t| 'UNHCR Lebanon 2018 VASYR'\t| 18\t|\n",
    "| 2 \t| 'UNHCR Lebanon 2018 Vulnerability Assessment of Syrian 0Refugees (VASYR)' | 5 |\n",
    "| 3 \t| 'UNHCR Lebanon 2018 VASYR Vulnerability Assessment of Syrian efugees (VASYR)'\t| 2\t|\n",
    "| 4 \t| 'UNHCR, WFP, UNICEF Lebanon 2018 VASYR'\t| 6\t|\n",
    "| 5 \t| 'UNHCR, WFP, UNICEF Lebanon 2018 Vulnerability Assessment of Syrian Refugees (VASYR)' | 2 |\n",
    "| 6 \t| 'UNHCR, WFP, UNICEF Lebanon 2018 VASYR Vulnerability Assessment of Syrian Refugees (VASYR)' \t|1\t|"
   ]
  },
  {
   "cell_type": "code",
   "execution_count": 1,
   "id": "c9d132ae",
   "metadata": {
    "tags": [
     "output_scroll",
     "hide-input"
    ]
   },
   "outputs": [
    {
     "name": "stdout",
     "output_type": "stream",
     "text": [
      "     id  query_type1_pubs  query_type2_pubs  query_type3_pubs  \\\n",
      "27  189                16                 3                 1   \n",
      "\n",
      "    query_type4_pubs  query_type5_pubs  query_type6_pubs  \\\n",
      "27                 6                 0                 1   \n",
      "\n",
      "    no_related_pubs_jdc_website  \n",
      "27                           13  \n"
     ]
    }
   ],
   "source": [
    "import pandas as pd\n",
    "df = pd.read_csv(\"data/semantic_scholar_query_results_with_web_count.csv\")\n",
    "print(df[df[\"id\"] == 189])"
   ]
  },
  {
   "cell_type": "markdown",
   "id": "de892ba4",
   "metadata": {},
   "source": [
    "## Semantic Search\n",
    "For query 1, below is the output returned from Semantic Scholar for 18 potentially relevant papers"
   ]
  },
  {
   "cell_type": "code",
   "execution_count": 2,
   "id": "5ca315c6",
   "metadata": {},
   "outputs": [
    {
     "ename": "NameError",
     "evalue": "name 'observable_jupyter_widget' is not defined",
     "output_type": "error",
     "traceback": [
      "\u001b[0;31m---------------------------------------------------------------------------\u001b[0m",
      "\u001b[0;31mNameError\u001b[0m                                 Traceback (most recent call last)",
      "Cell \u001b[0;32mIn[2], line 4\u001b[0m\n\u001b[1;32m      1\u001b[0m \u001b[38;5;66;03m#df  = pd.read_csv(\"data/dataset189_query1.csv\")\u001b[39;00m\n\u001b[1;32m      2\u001b[0m \u001b[38;5;66;03m#glue(\"df_tbl\", df)\u001b[39;00m\n\u001b[0;32m----> 4\u001b[0m w \u001b[38;5;241m=\u001b[39m \u001b[43mobservable_jupyter_widget\u001b[49m\u001b[38;5;241m.\u001b[39mObservableWidget(\n\u001b[1;32m      5\u001b[0m     \u001b[38;5;124m'\u001b[39m\u001b[38;5;124m@microdata-citation-explorer/query-generation\u001b[39m\u001b[38;5;124m'\u001b[39m,\n\u001b[1;32m      6\u001b[0m     cells\u001b[38;5;241m=\u001b[39m[\u001b[38;5;124m'\u001b[39m\u001b[38;5;124mviewof table\u001b[39m\u001b[38;5;124m'\u001b[39m,\u001b[38;5;124m'\u001b[39m\u001b[38;5;124mtyped_entry\u001b[39m\u001b[38;5;124m'\u001b[39m], \u001b[38;5;66;03m# optional\u001b[39;00m\n\u001b[1;32m      7\u001b[0m     inputs\u001b[38;5;241m=\u001b[39m{\u001b[38;5;124m'\u001b[39m\u001b[38;5;124mtyped_entry\u001b[39m\u001b[38;5;124m'\u001b[39m: \u001b[38;5;241m189\u001b[39m},  \u001b[38;5;66;03m# optional\u001b[39;00m\n\u001b[1;32m      8\u001b[0m     outputs\u001b[38;5;241m=\u001b[39m[\u001b[38;5;124m'\u001b[39m\u001b[38;5;124mviewof table\u001b[39m\u001b[38;5;124m'\u001b[39m,\u001b[38;5;124m'\u001b[39m\u001b[38;5;124mtyped_entry\u001b[39m\u001b[38;5;124m'\u001b[39m]  \u001b[38;5;66;03m# optional\u001b[39;00m\n\u001b[1;32m      9\u001b[0m )\n\u001b[1;32m     10\u001b[0m w\n",
      "\u001b[0;31mNameError\u001b[0m: name 'observable_jupyter_widget' is not defined"
     ]
    }
   ],
   "source": [
    "#df  = pd.read_csv(\"data/dataset189_query1.csv\")\n",
    "#glue(\"df_tbl\", df)\n",
    "\n",
    "w = observable_jupyter_widget.ObservableWidget(\n",
    "    '@microdata-citation-explorer/query-generation',\n",
    "    cells=['viewof table','typed_entry'], # optional\n",
    "    inputs={'typed_entry': 189},  # optional\n",
    "    outputs=['viewof table','typed_entry']  # optional\n",
    ")\n",
    "w"
   ]
  },
  {
   "cell_type": "markdown",
   "id": "8d88750b",
   "metadata": {},
   "source": [
    "## Topic Modeling\n",
    "Out of the XX papers returned across the six query types, YYY had abstracts available in either the NLP4Dev or Semantic Scholar corpuses, and ZZZ had full body text available.\n",
    "\n",
    "These were used as inputs to the NLP4Dev API, as described in [Section 3.5](methods/topic-modeling-and-sentiment-analysis.md).\n",
    "\n",
    "XXX were defined as relevant.\n",
    "\n",
    "## Model Output\n",
    "Following manual review of the papers identified automatically, XXX were confirmed as relevant. Of these XXX, YYY had previously been identified through the manual procedure, and ZZZ were new.\n",
    "\n",
    "This represents a XXX percent improvement over the baseline.\n",
    "\n",
    "## Evaluating Model Performance\n",
    "Based on our selected evaluation metric, Query X performed most effectively\n",
    "\n",
    "## Network analysis\n",
    "Of the papers that referenced this dataset, XYZ came from ABC geographies and ABC instutions."
   ]
  }
 ],
 "metadata": {
  "jupytext": {
   "formats": "md:myst",
   "text_representation": {
    "extension": ".md",
    "format_name": "myst"
   }
  },
  "kernelspec": {
   "display_name": "Python 3",
   "language": "python",
   "name": "python3"
  },
  "language_info": {
   "codemirror_mode": {
    "name": "ipython",
    "version": 3
   },
   "file_extension": ".py",
   "mimetype": "text/x-python",
   "name": "python",
   "nbconvert_exporter": "python",
   "pygments_lexer": "ipython3",
   "version": "3.10.6"
  },
  "source_map": [
   11,
   30,
   35,
   40,
   51
  ]
 },
 "nbformat": 4,
 "nbformat_minor": 5
}