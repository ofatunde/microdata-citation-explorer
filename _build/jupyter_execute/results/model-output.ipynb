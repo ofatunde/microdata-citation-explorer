{
 "cells": [
  {
   "cell_type": "markdown",
   "id": "3d0b4411",
   "metadata": {},
   "source": [
    "# Dataset selection\n",
    "\n",
    "First, filter by the following inputs in order to generate a set of datasets to choose from:"
   ]
  },
  {
   "cell_type": "code",
   "execution_count": 1,
   "id": "5a1ce930",
   "metadata": {
    "tags": [
     "hide-input"
    ]
   },
   "outputs": [
    {
     "ename": "IndentationError",
     "evalue": "unindent does not match any outer indentation level (<tokenize>, line 27)",
     "output_type": "error",
     "traceback": [
      "\u001b[0;36m  File \u001b[0;32m<tokenize>:27\u001b[0;36m\u001b[0m\n\u001b[0;31m    options=repository_list,\u001b[0m\n\u001b[0m    ^\u001b[0m\n\u001b[0;31mIndentationError\u001b[0m\u001b[0;31m:\u001b[0m unindent does not match any outer indentation level\n"
     ]
    }
   ],
   "source": [
    "#from glueviz import glue\n",
    "from myst_nb import glue\n",
    "import pandas as pd\n",
    "import ipywidgets as widgets\n",
    "from IPython.display import display\n",
    "import requests\n",
    "#url = \"https://microdata.unhcr.org/index.php/api/catalog/search?ps=2000&sort_by=created&sort_order=desc\"\n",
    "#headers = {'Content-type': 'application/html',\n",
    "           'Accept': 'application/json'\n",
    "           }\n",
    "#r = requests.get(url, verify=False, headers = headers,stream=True)\n",
    "#json = r.json()\n",
    "#latest_data = pd.DataFrame(json['result']['rows'])\n",
    "#dataset_category_mapping = pd.read_csv(\"dataset_category_mapping.csv\",encoding = \"latin\")\n",
    "#latest_data_with_categories = pd.merge(latest_data,dataset_category_mapping,how = \"left\",on = 'title')\n",
    "\n",
    "latest_data_with_categories = pd.read_csv(\"data/latest_data_with_categories.csv\",encoding = \"latin\")\n",
    "\n",
    "repository_list = latest_data_with_categories['repo_title'].unique().tolist()\n",
    "category_list = latest_data_with_categories['Category'].unique().tolist()\n",
    "country_list = latest_data_with_categories['nation'].unique().tolist()\n",
    "year_list = latest_data_with_categories['year_end'].unique().tolist()\n",
    "dataset_list = latest_data_with_categories['title'].unique().tolist()\n",
    "query_type = ['1', '2', '3','4','5','6']\n",
    "\n",
    "repo_dropdown = widgets.Dropdown(\n",
    "    options=repository_list,\n",
    "    value='Europe',\n",
    "    description='Repository:',\n",
    "    disabled=False,\n",
    ")\n",
    "\n",
    "category_dropdown = widgets.Dropdown(\n",
    "    options=category_list,\n",
    "    value='KAP WASH Survey',\n",
    "    description='Survey Category:',\n",
    "    disabled=False,\n",
    ")\n",
    "\n",
    "country_dropdown = widgets.Dropdown(\n",
    "    options=country_list,\n",
    "    value='Lebanon',\n",
    "    description='Survey Country:',\n",
    "    disabled=False,\n",
    ")\n",
    "\n",
    "year_dropdown = widgets.Dropdown(\n",
    "    options=year_list,\n",
    "    value=2018,\n",
    "    description='Survey Year:',\n",
    "    disabled=False,\n",
    ")\n",
    "\n",
    "##df  = pd.read_csv(\"data/dataset189_query1.csv\")\n",
    "#glue(\"df_tbl\", df)\n",
    "\n",
    "display(repo_dropdown)\n",
    "display(country_dropdown)\n",
    "display(category_dropdown)\n",
    "display(year_dropdown)"
   ]
  },
  {
   "cell_type": "markdown",
   "id": "b97f651b",
   "metadata": {},
   "source": [
    "Next, select a specific dataset from the dropdown menu below. If desired, you may also modify the query type."
   ]
  },
  {
   "cell_type": "code",
   "execution_count": null,
   "id": "1977c4b6",
   "metadata": {
    "tags": [
     "hide-input"
    ]
   },
   "outputs": [],
   "source": [
    "import pandas as pd\n",
    "latest_data_with_categories = pd.read_csv(\"data/latest_data_with_categories.csv\",encoding = \"latin\")\n",
    "title_list = latest_data_with_categories[latest_data_with_categories['repo_title'] == repo_dropdown.value]['title'].unique().tolist()\n",
    "\n",
    "filtered_survey_dropdown = widgets.Dropdown(\n",
    "    options=title_list,\n",
    "    description='Select dataset:',\n",
    "    disabled=False,\n",
    ")\n",
    "\n",
    "query_dropdown = widgets.Dropdown(\n",
    "    options=query_type,\n",
    "    value='1',\n",
    "    description='Select query type:',\n",
    "    disabled=False,\n",
    ")\n",
    "\n",
    "display(filtered_survey_dropdown)\n",
    "display(query_dropdown)"
   ]
  },
  {
   "cell_type": "markdown",
   "id": "10ff762f",
   "metadata": {},
   "source": [
    "# Model output\n",
    "Each model returns a list of papers with the following information:\n",
    "\n",
    "* Dataset Title\n",
    "* Paper Title\n",
    "* Binary relevance\n",
    "* Continunous relevance score\n",
    "* Number of JDC tags mentioned\n",
    "* Percentage of paper dedicated to forced displacement"
   ]
  }
 ],
 "metadata": {
  "jupytext": {
   "formats": "md:myst",
   "text_representation": {
    "extension": ".md",
    "format_name": "myst"
   }
  },
  "kernelspec": {
   "display_name": "Python 3",
   "language": "python",
   "name": "python3"
  },
  "language_info": {
   "codemirror_mode": {
    "name": "ipython",
    "version": 3
   },
   "file_extension": ".py",
   "mimetype": "text/x-python",
   "name": "python",
   "nbconvert_exporter": "python",
   "pygments_lexer": "ipython3",
   "version": "3.10.6"
  },
  "source_map": [
   11,
   16,
   78,
   82,
   103
  ]
 },
 "nbformat": 4,
 "nbformat_minor": 5
}